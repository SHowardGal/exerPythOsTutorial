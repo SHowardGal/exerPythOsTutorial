{
 "cells": [
  {
   "cell_type": "code",
   "execution_count": 1,
   "source": [
    "import os\r\n",
    "\r\n",
    "os.chdir(\"C:\\Users\\steph\\Desktop\\re do python os module tutorial\")\r\n",
    "\r\n",
    "\r\n",
    "for dirpath, dirnames, filenames in os.walk(\"C:\\Users\\steph\\Desktop\\re do python os module tutorial\")\r\n",
    "\r\n",
    "print(dir(os))\r\n",
    "\r\n",
    "print(os.getcwd())\r\n",
    "\r\n",
    "os.chdir()\r\n",
    "\r\n",
    "os.listdir()\r\n",
    "\r\n",
    "os.mkdir()\r\n",
    "\r\n",
    "os.makedirs()\r\n",
    "\r\n",
    "os.rmdir()\r\n",
    "\r\n",
    "os.removedirs()\r\n",
    "\r\n",
    "os.rename()\r\n",
    "\r\n",
    "print(os.stat())\r\n",
    "\r\n",
    "print(datetime.fromtimestamp())\r\n",
    "\r\n",
    "os.walk()\r\n",
    "\r\n",
    "print(os.environ.get('HOME'))\r\n",
    "\r\n",
    "os.path.join()\r\n",
    "\r\n",
    "os.path.basename()\r\n",
    "\r\n",
    "os.path.dirname()\r\n",
    "\r\n",
    "os.path.split()\r\n",
    "\r\n",
    "os.path.exists()\r\n",
    "\r\n",
    "os.path.isdir()\r\n",
    "\r\n",
    "os.path.isfile()\r\n",
    "\r\n",
    "os.path.splitext()\r\n",
    "\r\n",
    "https://docs.python.org/3/library/os.html\r\n",
    "\r\n",
    "https://docs.python.org/3/tutorial/stdlib.html "
   ],
   "outputs": [
    {
     "output_type": "error",
     "ename": "SyntaxError",
     "evalue": "EOL while scanning string literal (<ipython-input-1-45e447eb968c>, line 3)",
     "traceback": [
      "\u001b[1;36m  File \u001b[1;32m\"<ipython-input-1-45e447eb968c>\"\u001b[1;36m, line \u001b[1;32m3\u001b[0m\n\u001b[1;33m    os.chdir('\\Users\\steph\\Desktop\\')\u001b[0m\n\u001b[1;37m                                     ^\u001b[0m\n\u001b[1;31mSyntaxError\u001b[0m\u001b[1;31m:\u001b[0m EOL while scanning string literal\n"
     ]
    }
   ],
   "metadata": {}
  },
  {
   "cell_type": "code",
   "execution_count": null,
   "source": [],
   "outputs": [],
   "metadata": {}
  }
 ],
 "metadata": {
  "interpreter": {
   "hash": "65518f30a3ecf463641bbff51568eed8800a8b6475836389ae912c7fedafd608"
  },
  "kernelspec": {
   "name": "python3",
   "display_name": "Python 3.9.7 64-bit"
  },
  "language_info": {
   "codemirror_mode": {
    "name": "ipython",
    "version": 3
   },
   "file_extension": ".py",
   "mimetype": "text/x-python",
   "name": "python",
   "nbconvert_exporter": "python",
   "pygments_lexer": "ipython3",
   "version": "3.9.7"
  }
 },
 "nbformat": 4,
 "nbformat_minor": 5
}