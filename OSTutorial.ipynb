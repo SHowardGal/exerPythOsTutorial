
import os

os.chdir('/Users/steph/Desktop/')

for dirpath, dirnames, filenames in os.walk(('/Users/steph/Desktop/'))

print(dir(os))

print(os.getcwd())

os.chdir()

os.listdir()

os.mkdir()

os.makedirs()

os.rmdir()

os.removedirs()

os.rename()

print(os.stat())

print(datetime.fromtimestamp())

os.walk()

print(os.environ.get('HOME'))

os.path.join()

os.path.basename()

os.path.dirname()

os.path.split()

os.path.exists()

os.path.isdir()

os.path.isfile()

os.path.splitext()

https://docs.python.org/3/library/os.html

https://docs.python.org/3/tutorial/stdlib.html 




